{
 "cells": [
  {
   "cell_type": "code",
   "execution_count": 1,
   "metadata": {},
   "outputs": [],
   "source": [
    "import numpy as np\n",
    "import pandas as pd\n",
    "from scipy.io import arff\n",
    "import matplotlib.pyplot as plt\n",
    "import matplotlib.animation as animation\n",
    "import operator\n",
    "from sklearn.metrics import log_loss\n",
    "data = arff.loadarff('EEG_Eye_State.arff')\n",
    "df1 = pd.DataFrame(data[0])\n",
    "df = pd.DataFrame(data[0])\n",
    "df.eyeDetection = pd.to_numeric(df.eyeDetection, errors='coerce')"
   ]
  },
  {
   "cell_type": "code",
   "execution_count": 2,
   "metadata": {},
   "outputs": [],
   "source": [
    "#Remove Outliers\n",
    "#DataSet contains Outliers. To get better prediction, outliers needs to be removed.\n",
    "for column in df:\n",
    "    if column != 'eyeDetection':\n",
    "        df = df[np.abs(df[column]-df[column].mean()) <= (5*df[column].std())]"
   ]
  },
  {
   "cell_type": "code",
   "execution_count": 3,
   "metadata": {},
   "outputs": [
    {
     "data": {
      "text/html": [
       "<div>\n",
       "<style scoped>\n",
       "    .dataframe tbody tr th:only-of-type {\n",
       "        vertical-align: middle;\n",
       "    }\n",
       "\n",
       "    .dataframe tbody tr th {\n",
       "        vertical-align: top;\n",
       "    }\n",
       "\n",
       "    .dataframe thead th {\n",
       "        text-align: right;\n",
       "    }\n",
       "</style>\n",
       "<table border=\"1\" class=\"dataframe\">\n",
       "  <thead>\n",
       "    <tr style=\"text-align: right;\">\n",
       "      <th></th>\n",
       "      <th>AF3</th>\n",
       "      <th>F7</th>\n",
       "      <th>F3</th>\n",
       "      <th>FC5</th>\n",
       "      <th>T7</th>\n",
       "      <th>P7</th>\n",
       "      <th>O1</th>\n",
       "      <th>O2</th>\n",
       "      <th>P8</th>\n",
       "      <th>T8</th>\n",
       "      <th>FC6</th>\n",
       "      <th>F4</th>\n",
       "      <th>F8</th>\n",
       "      <th>AF4</th>\n",
       "      <th>eyeDetection</th>\n",
       "    </tr>\n",
       "  </thead>\n",
       "  <tbody>\n",
       "    <tr>\n",
       "      <th>0</th>\n",
       "      <td>4329.23</td>\n",
       "      <td>4009.23</td>\n",
       "      <td>4289.23</td>\n",
       "      <td>4148.21</td>\n",
       "      <td>4350.26</td>\n",
       "      <td>4586.15</td>\n",
       "      <td>4096.92</td>\n",
       "      <td>4641.03</td>\n",
       "      <td>4222.05</td>\n",
       "      <td>4238.46</td>\n",
       "      <td>4211.28</td>\n",
       "      <td>4280.51</td>\n",
       "      <td>4635.90</td>\n",
       "      <td>4393.85</td>\n",
       "      <td>0</td>\n",
       "    </tr>\n",
       "    <tr>\n",
       "      <th>1</th>\n",
       "      <td>4324.62</td>\n",
       "      <td>4004.62</td>\n",
       "      <td>4293.85</td>\n",
       "      <td>4148.72</td>\n",
       "      <td>4342.05</td>\n",
       "      <td>4586.67</td>\n",
       "      <td>4097.44</td>\n",
       "      <td>4638.97</td>\n",
       "      <td>4210.77</td>\n",
       "      <td>4226.67</td>\n",
       "      <td>4207.69</td>\n",
       "      <td>4279.49</td>\n",
       "      <td>4632.82</td>\n",
       "      <td>4384.10</td>\n",
       "      <td>0</td>\n",
       "    </tr>\n",
       "    <tr>\n",
       "      <th>2</th>\n",
       "      <td>4327.69</td>\n",
       "      <td>4006.67</td>\n",
       "      <td>4295.38</td>\n",
       "      <td>4156.41</td>\n",
       "      <td>4336.92</td>\n",
       "      <td>4583.59</td>\n",
       "      <td>4096.92</td>\n",
       "      <td>4630.26</td>\n",
       "      <td>4207.69</td>\n",
       "      <td>4222.05</td>\n",
       "      <td>4206.67</td>\n",
       "      <td>4282.05</td>\n",
       "      <td>4628.72</td>\n",
       "      <td>4389.23</td>\n",
       "      <td>0</td>\n",
       "    </tr>\n",
       "    <tr>\n",
       "      <th>3</th>\n",
       "      <td>4328.72</td>\n",
       "      <td>4011.79</td>\n",
       "      <td>4296.41</td>\n",
       "      <td>4155.90</td>\n",
       "      <td>4343.59</td>\n",
       "      <td>4582.56</td>\n",
       "      <td>4097.44</td>\n",
       "      <td>4630.77</td>\n",
       "      <td>4217.44</td>\n",
       "      <td>4235.38</td>\n",
       "      <td>4210.77</td>\n",
       "      <td>4287.69</td>\n",
       "      <td>4632.31</td>\n",
       "      <td>4396.41</td>\n",
       "      <td>0</td>\n",
       "    </tr>\n",
       "    <tr>\n",
       "      <th>4</th>\n",
       "      <td>4326.15</td>\n",
       "      <td>4011.79</td>\n",
       "      <td>4292.31</td>\n",
       "      <td>4151.28</td>\n",
       "      <td>4347.69</td>\n",
       "      <td>4586.67</td>\n",
       "      <td>4095.90</td>\n",
       "      <td>4627.69</td>\n",
       "      <td>4210.77</td>\n",
       "      <td>4244.10</td>\n",
       "      <td>4212.82</td>\n",
       "      <td>4288.21</td>\n",
       "      <td>4632.82</td>\n",
       "      <td>4398.46</td>\n",
       "      <td>0</td>\n",
       "    </tr>\n",
       "  </tbody>\n",
       "</table>\n",
       "</div>"
      ],
      "text/plain": [
       "       AF3       F7       F3      FC5       T7       P7       O1       O2  \\\n",
       "0  4329.23  4009.23  4289.23  4148.21  4350.26  4586.15  4096.92  4641.03   \n",
       "1  4324.62  4004.62  4293.85  4148.72  4342.05  4586.67  4097.44  4638.97   \n",
       "2  4327.69  4006.67  4295.38  4156.41  4336.92  4583.59  4096.92  4630.26   \n",
       "3  4328.72  4011.79  4296.41  4155.90  4343.59  4582.56  4097.44  4630.77   \n",
       "4  4326.15  4011.79  4292.31  4151.28  4347.69  4586.67  4095.90  4627.69   \n",
       "\n",
       "        P8       T8      FC6       F4       F8      AF4  eyeDetection  \n",
       "0  4222.05  4238.46  4211.28  4280.51  4635.90  4393.85             0  \n",
       "1  4210.77  4226.67  4207.69  4279.49  4632.82  4384.10             0  \n",
       "2  4207.69  4222.05  4206.67  4282.05  4628.72  4389.23             0  \n",
       "3  4217.44  4235.38  4210.77  4287.69  4632.31  4396.41             0  \n",
       "4  4210.77  4244.10  4212.82  4288.21  4632.82  4398.46             0  "
      ]
     },
     "execution_count": 3,
     "metadata": {},
     "output_type": "execute_result"
    }
   ],
   "source": [
    "df.head()"
   ]
  },
  {
   "cell_type": "code",
   "execution_count": 4,
   "metadata": {},
   "outputs": [],
   "source": [
    "#Divide Train,Validation and Test sets\n",
    "from sklearn.model_selection import train_test_split\n",
    "test_percentage=0.20\n",
    "\n",
    "X_train_valid, X_test, y_train_valid, y_test = train_test_split(df.iloc[:, df.columns != 'eyeDetection'], df['eyeDetection'], test_size=test_percentage) \n"
   ]
  },
  {
   "cell_type": "code",
   "execution_count": 5,
   "metadata": {},
   "outputs": [],
   "source": [
    "#Divide Train and Valid sets\n",
    "valid_percentage=0.25\n",
    "X_train, X_valid, y_train, y_valid = train_test_split(X_train_valid, y_train_valid, test_size=valid_percentage)"
   ]
  },
  {
   "cell_type": "code",
   "execution_count": 79,
   "metadata": {},
   "outputs": [],
   "source": [
    "#Normalize the traing data with training and validation examples\n",
    "X_train_norm = (X_train - X_train_valid.mean()) /  X_train_valid.std()\n",
    "X_valid_norm = (X_valid - X_train_valid.mean()) /  X_train_valid.std()\n",
    "X_test_norm = (X_test - X_train_valid.mean()) /  X_train_valid.std()"
   ]
  },
  {
   "cell_type": "code",
   "execution_count": 7,
   "metadata": {},
   "outputs": [],
   "source": [
    "#Euclidean distance between two points\n",
    "def euc_distance(a,b):\n",
    "    return np.linalg.norm(a-b)"
   ]
  },
  {
   "cell_type": "code",
   "execution_count": 8,
   "metadata": {},
   "outputs": [
    {
     "data": {
      "text/plain": [
       "(8988, 14)"
      ]
     },
     "execution_count": 8,
     "metadata": {},
     "output_type": "execute_result"
    }
   ],
   "source": [
    "X_train_norm.shape"
   ]
  },
  {
   "cell_type": "code",
   "execution_count": 9,
   "metadata": {
    "scrolled": true
   },
   "outputs": [],
   "source": [
    "# Prediction for each data point\n",
    "def predict(new_point,count):\n",
    "    distance, c1, c2 = {}, 0, 0\n",
    "    for index, row in centroids.iterrows():\n",
    "        distance[index] = euc_distance(row,new_point)\n",
    "    key = min(distance.items(), key=operator.itemgetter(1))[0]\n",
    "    prob_eyes_open = np.sum(count[key][0]/(count[key][0]+count[key][1]))\n",
    "    return prob_eyes_open"
   ]
  },
  {
   "cell_type": "code",
   "execution_count": 10,
   "metadata": {},
   "outputs": [
    {
     "name": "stdout",
     "output_type": "stream",
     "text": [
      "1 Run Started\n",
      "4550.804558038712\n",
      "2 Run Started\n",
      "5758.226834058762\n",
      "3 Run Started\n",
      "5310.473433017731\n",
      "4 Run Started\n",
      "5471.973471879959\n",
      "5 Run Started\n",
      "5600.995229244232\n"
     ]
    }
   ],
   "source": [
    "#K-Means Implementation from scrach\n",
    "import time\n",
    "Et = []\n",
    "Ev = []\n",
    "clusters = [2, 3, 4, 5, 6, 7, 8, 9, 10, 11, 12, 13, 14]\n",
    "Et_entropy = {k: [] for k in clusters}\n",
    "Ev_entropy = {k: [] for k in clusters}\n",
    "for i in range(30):\n",
    "    print(i+1,'Run Started')\n",
    "    start = time.time()\n",
    "    for k in clusters:\n",
    "        epsilon = 0\n",
    "        centroids = X_train_norm.sample(n=k)\n",
    "\n",
    "        d ={}\n",
    "        #Initial Distance of between centroids and new centroids of empty dataframe\n",
    "        cent_distance = euc_distance(centroids,np.zeros(centroids.shape))\n",
    "        #Creating empty dataframes for centroids\n",
    "        for index, row in centroids.iterrows():\n",
    "            d[index] = pd.DataFrame(columns=['AF3', 'F7', 'F3', 'FC5', 'T7', 'P7', 'O1', 'O2', 'P8', 'T8', 'FC6',\n",
    "                                                  'F4', 'F8', 'AF4'])\n",
    "\n",
    "        while cent_distance > epsilon:\n",
    "            for index, row in X_train_norm.iterrows():\n",
    "                distance = {}\n",
    "                for index1, row1 in centroids.iterrows():\n",
    "                    distance[index1] = euc_distance(row,row1)\n",
    "                key = min(distance.items(), key=operator.itemgetter(1))[0]\n",
    "                d[key].loc[index] = X_train_norm.loc[index]\n",
    "\n",
    "            new_centroids = pd.DataFrame(columns=['AF3', 'F7', 'F3', 'FC5', 'T7', 'P7', 'O1', 'O2', 'P8', 'T8', 'FC6',\n",
    "                                                      'F4', 'F8', 'AF4'])\n",
    "            for each in d:\n",
    "                new_centroids.loc[each] = d[each].mean()\n",
    "            cent_distance = euc_distance(centroids,new_centroids)\n",
    "            centroids = new_centroids\n",
    "        \n",
    "        #Inner join to add their own target variable for each cluster\n",
    "        for each in d:\n",
    "            d[each] = pd.merge(d[each], pd.DataFrame(y_train) , left_index=True, right_index=True)\n",
    "        #Count dictionary for 0's and 1's for each cluster\n",
    "        count = {}\n",
    "        for each in d:\n",
    "            if len(d[each]['eyeDetection'].value_counts()) > 1:\n",
    "                count[each] = (d[each]['eyeDetection'].value_counts()[1],d[each]['eyeDetection'].value_counts()[0])\n",
    "            else:\n",
    "                count[each] = (0,d[each]['eyeDetection'].value_counts()[0])\n",
    "\n",
    "        # Empty DataFrame for Training Prediction and Validation Prediction\n",
    "        predictions_train = pd.DataFrame(columns=['targets', 'predictions'])\n",
    "        predictions_valid = pd.DataFrame(columns=['targets', 'predictions'])\n",
    "        \n",
    "        #Prediction for training data\n",
    "        for index, row in X_train_norm.iterrows():\n",
    "            target = y_train.loc[index]\n",
    "            pred = predict(X_train_norm.loc[[index]],count)\n",
    "            predictions_train.loc[index] = [target,pred]\n",
    "\n",
    "        #predict for validation data\n",
    "        for index, row in X_valid_norm.iterrows():\n",
    "            target = y_valid.loc[index]\n",
    "            pred = predict(X_valid_norm.loc[[index]],count)\n",
    "            predictions_valid.loc[index] = [target,pred]\n",
    "\n",
    "        #Entropy calculate\n",
    "        Et_entropy[k].append(log_loss(predictions_train.targets, predictions_train.predictions))\n",
    "        Ev_entropy[k].append(log_loss(predictions_valid.targets, predictions_valid.predictions))\n",
    "    end = time.time()\n",
    "    print(end-start)"
   ]
  },
  {
   "cell_type": "code",
   "execution_count": 85,
   "metadata": {},
   "outputs": [
    {
     "data": {
      "image/png": "[encoded data removed]",
      "text/plain": [
       "<Figure size 432x288 with 1 Axes>"
      ]
     },
     "metadata": {
      "needs_background": "light"
     },
     "output_type": "display_data"
    }
   ],
   "source": [
    "#Average Learning Curve for Training Data\n",
    "plt.plot(clusters,mean_Et,'bx-')\n",
    "plt.xlabel('k clusters')\n",
    "plt.ylabel('Training Mean Entropy')\n",
    "plt.title('Learning Curve for Optimal k on Training Data')\n",
    "plt.show()"
   ]
  },
  {
   "cell_type": "code",
   "execution_count": 86,
   "metadata": {},
   "outputs": [
    {
     "data": {
      "image/png": "[encoded data removed]",
      "text/plain": [
       "<Figure size 432x288 with 1 Axes>"
      ]
     },
     "metadata": {
      "needs_background": "light"
     },
     "output_type": "display_data"
    }
   ],
   "source": [
    "#Average Entropy Learning curve for Validation Data\n",
    "plt.plot(clusters,mean_Ev,'bx-')\n",
    "plt.xlabel('k clusters')\n",
    "plt.ylabel('Validation Mean Entropy')\n",
    "plt.title('Learning Curve for Optimal k for Validation Data')\n",
    "plt.show()"
   ]
  },
  {
   "cell_type": "code",
   "execution_count": 76,
   "metadata": {},
   "outputs": [
    {
     "data": {
      "text/plain": [
       "[2, 3, 4, 5, 6, 7, 8, 9, 10, 11, 12, 13, 14]"
      ]
     },
     "execution_count": 76,
     "metadata": {},
     "output_type": "execute_result"
    }
   ],
   "source": [
    "#From above two plots we could clearly say that the least entropy for both training and validation data is for k = 14\n",
    "#"
   ]
  },
  {
   "cell_type": "code",
   "execution_count": 81,
   "metadata": {},
   "outputs": [
    {
     "name": "stdout",
     "output_type": "stream",
     "text": [
      "418.96119499206543\n"
     ]
    }
   ],
   "source": [
    "#Running with the best model for training, validation and testing data for best k i.e. 14\n",
    "import time\n",
    "start = time.time()\n",
    "epsilon = 0\n",
    "centroids = X_train_norm.sample(n=14)\n",
    "\n",
    "d ={}\n",
    "#Initial Distance of between centroids and new centroids of empty dataframe\n",
    "cent_distance = euc_distance(centroids,np.zeros(centroids.shape))\n",
    "#Creating empty dataframes for centroids\n",
    "for index, row in centroids.iterrows():\n",
    "    d[index] = pd.DataFrame(columns=['AF3', 'F7', 'F3', 'FC5', 'T7', 'P7', 'O1', 'O2', 'P8', 'T8', 'FC6',\n",
    "                                          'F4', 'F8', 'AF4'])\n",
    "\n",
    "while cent_distance > epsilon:\n",
    "    for index, row in X_train_norm.iterrows():\n",
    "        distance = {}\n",
    "        for index1, row1 in centroids.iterrows():\n",
    "            distance[index1] = euc_distance(row,row1)\n",
    "        key = min(distance.items(), key=operator.itemgetter(1))[0]\n",
    "        d[key].loc[index] = X_train_norm.loc[index]\n",
    "\n",
    "    new_centroids = pd.DataFrame(columns=['AF3', 'F7', 'F3', 'FC5', 'T7', 'P7', 'O1', 'O2', 'P8', 'T8', 'FC6',\n",
    "                                              'F4', 'F8', 'AF4'])\n",
    "    for each in d:\n",
    "        new_centroids.loc[each] = d[each].mean()\n",
    "    cent_distance = euc_distance(centroids,new_centroids)\n",
    "    centroids = new_centroids\n",
    "\n",
    "#Inner join to add their own target variable for each cluster\n",
    "for each in d:\n",
    "    d[each] = pd.merge(d[each], pd.DataFrame(y_train) , left_index=True, right_index=True)\n",
    "#Count dictionary for 0's and 1's for each cluster\n",
    "count = {}\n",
    "for each in d:\n",
    "    if len(d[each]['eyeDetection'].value_counts()) > 1:\n",
    "        count[each] = (d[each]['eyeDetection'].value_counts()[1],d[each]['eyeDetection'].value_counts()[0])\n",
    "    else:\n",
    "        count[each] = (0,d[each]['eyeDetection'].value_counts()[0])\n",
    "\n",
    "# Empty DataFrame for Training Prediction and Validation Prediction\n",
    "predictions_train = pd.DataFrame(columns=['targets', 'predictions'])\n",
    "predictions_valid = pd.DataFrame(columns=['targets', 'predictions'])\n",
    "predictions_test = pd.DataFrame(columns=['targets', 'predictions'])\n",
    "\n",
    "#Prediction for training data\n",
    "for index, row in X_train_norm.iterrows():\n",
    "    target = y_train.loc[index]\n",
    "    pred = predict(X_train_norm.loc[[index]],count)\n",
    "    predictions_train.loc[index] = [target,pred]\n",
    "\n",
    "#predict for validation data\n",
    "for index, row in X_valid_norm.iterrows():\n",
    "    target = y_valid.loc[index]\n",
    "    pred = predict(X_valid_norm.loc[[index]],count)\n",
    "    predictions_valid.loc[index] = [target,pred]\n",
    "\n",
    "#predict for Testing data\n",
    "for index, row in X_test_norm.iterrows():\n",
    "    target = y_test.loc[index]\n",
    "    pred = predict(X_test_norm.loc[[index]],count)\n",
    "    predictions_test.loc[index] = [target,pred]\n",
    "    \n",
    "#Entropy calculate\n",
    "E_train = log_loss(predictions_train.targets, predictions_train.predictions)\n",
    "E_valid = log_loss(predictions_valid.targets, predictions_valid.predictions)\n",
    "E_test = log_loss(predictions_test.targets, predictions_test.predictions)\n",
    "end = time.time()\n",
    "print(end-start)"
   ]
  },
  {
   "cell_type": "code",
   "execution_count": 82,
   "metadata": {},
   "outputs": [
    {
     "data": {
      "text/plain": [
       "0.6739936574165714"
      ]
     },
     "execution_count": 82,
     "metadata": {},
     "output_type": "execute_result"
    }
   ],
   "source": [
    "#Entropy for test data with the best model k = 14\n",
    "E_test"
   ]
  },
  {
   "cell_type": "code",
   "execution_count": 84,
   "metadata": {},
   "outputs": [
    {
     "data": {
      "text/plain": [
       "0.6759833250200796"
      ]
     },
     "execution_count": 84,
     "metadata": {},
     "output_type": "execute_result"
    }
   ],
   "source": [
    "#mean Entropy for  validation data for best model k= 14\n",
    "p.min(E_valid)"
   ]
  },
  {
   "cell_type": "code",
   "execution_count": null,
   "metadata": {},
   "outputs": [],
   "source": [
    "#From above two entropies almost same with best model. Hence my k=14 is having lest entropy"
   ]
  }
 ],
 "metadata": {
  "kernelspec": {
   "display_name": "Python 3",
   "language": "python",
   "name": "python3"
  },
  "language_info": {
   "codemirror_mode": {
    "name": "ipython",
    "version": 3
   },
   "file_extension": ".py",
   "mimetype": "text/x-python",
   "name": "python",
   "nbconvert_exporter": "python",
   "pygments_lexer": "ipython3",
   "version": "3.6.6"
  }
 },
 "nbformat": 4,
 "nbformat_minor": 2
}
